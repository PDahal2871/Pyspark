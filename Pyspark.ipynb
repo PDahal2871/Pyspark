{
 "cells": [
  {
   "cell_type": "code",
   "execution_count": 1,
   "metadata": {},
   "outputs": [],
   "source": [
    "#import os    \n",
    "#os.environ['SPARK_HOME'] = 'D:\\\\Pyspark\\\\spark-3.1.1-bin-hadoop3.2'"
   ]
  },
  {
   "cell_type": "code",
   "execution_count": 1,
   "metadata": {
    "scrolled": true
   },
   "outputs": [
    {
     "data": {
      "text/plain": [
       "'D:\\\\Pyspark\\\\spark-3.1.1-bin-hadoop3.2'"
      ]
     },
     "execution_count": 1,
     "metadata": {},
     "output_type": "execute_result"
    }
   ],
   "source": [
    "import findspark\n",
    "findspark.find()"
   ]
  },
  {
   "cell_type": "code",
   "execution_count": 2,
   "metadata": {},
   "outputs": [],
   "source": [
    "findspark.init()"
   ]
  },
  {
   "cell_type": "code",
   "execution_count": 3,
   "metadata": {
    "scrolled": true
   },
   "outputs": [],
   "source": [
    "import pyspark"
   ]
  },
  {
   "cell_type": "code",
   "execution_count": 4,
   "metadata": {
    "scrolled": true
   },
   "outputs": [],
   "source": [
    "from pyspark.sql import SparkSession\n",
    "spark = SparkSession.builder.appName('practise').getOrCreate()"
   ]
  },
  {
   "cell_type": "code",
   "execution_count": 5,
   "metadata": {},
   "outputs": [
    {
     "data": {
      "text/html": [
       "\n",
       "            <div>\n",
       "                <p><b>SparkSession - in-memory</b></p>\n",
       "                \n",
       "        <div>\n",
       "            <p><b>SparkContext</b></p>\n",
       "\n",
       "            <p><a href=\"http://Windows-10:4040\">Spark UI</a></p>\n",
       "\n",
       "            <dl>\n",
       "              <dt>Version</dt>\n",
       "                <dd><code>v3.1.1</code></dd>\n",
       "              <dt>Master</dt>\n",
       "                <dd><code>local[*]</code></dd>\n",
       "              <dt>AppName</dt>\n",
       "                <dd><code>practise</code></dd>\n",
       "            </dl>\n",
       "        </div>\n",
       "        \n",
       "            </div>\n",
       "        "
      ],
      "text/plain": [
       "<pyspark.sql.session.SparkSession at 0x1fd778bc108>"
      ]
     },
     "execution_count": 5,
     "metadata": {},
     "output_type": "execute_result"
    }
   ],
   "source": [
    "spark"
   ]
  },
  {
   "cell_type": "code",
   "execution_count": 6,
   "metadata": {},
   "outputs": [],
   "source": [
    "df = spark.read.option('header', True).csv('updated_demographic.csv', inferSchema=True)"
   ]
  },
  {
   "cell_type": "code",
   "execution_count": 7,
   "metadata": {},
   "outputs": [
    {
     "name": "stdout",
     "output_type": "stream",
     "text": [
      "+--------------+------------------+------+------------+---------------+--------------------------+--------------+\n",
      "|participant_id|examination_status|gender|age_in_years|race_and_origin|race_and_origin_with_asian|six_months_gap|\n",
      "+--------------+------------------+------+------------+---------------+--------------------------+--------------+\n",
      "|         73557|                 2|     1|          69|              4|                         4|             1|\n",
      "|         73558|                 2|     1|          54|              3|                         3|             1|\n",
      "|         73559|                 2|     1|          72|              3|                         3|             2|\n",
      "|         73560|                 2|     1|           9|              3|                         3|             1|\n",
      "|         73561|                 2|     2|          73|              3|                         3|             1|\n",
      "|         73562|                 2|     1|          56|              1|                         1|             1|\n",
      "|         73563|                 2|     1|           5|              3|                         3|             2|\n",
      "|         73564|                 2|     2|          61|              3|                         3|             2|\n",
      "|         73565|                 1|     1|          42|              2|                         2|             2|\n",
      "|         73566|                 2|     2|          56|              3|                         3|             1|\n",
      "|         73567|                 2|     1|          65|              3|                         3|             2|\n",
      "|         73568|                 2|     2|          26|              3|                         3|             2|\n",
      "|         73569|                 1|     2|           5|              5|                         7|             2|\n",
      "|         73570|                 2|     2|           9|              5|                         7|             1|\n",
      "|         73571|                 2|     1|          76|              3|                         3|             1|\n",
      "|         73572|                 2|     2|          15|              4|                         4|             1|\n",
      "|         73573|                 2|     1|          15|              4|                         4|             1|\n",
      "|         73574|                 2|     2|          33|              5|                         6|             1|\n",
      "|         73575|                 2|     1|           1|              4|                         4|             1|\n",
      "|         73576|                 2|     1|          16|              4|                         4|             2|\n",
      "+--------------+------------------+------+------------+---------------+--------------------------+--------------+\n",
      "only showing top 20 rows\n",
      "\n"
     ]
    }
   ],
   "source": [
    "df.show()"
   ]
  },
  {
   "cell_type": "code",
   "execution_count": 8,
   "metadata": {},
   "outputs": [
    {
     "data": {
      "text/plain": [
       "pyspark.sql.dataframe.DataFrame"
      ]
     },
     "execution_count": 8,
     "metadata": {},
     "output_type": "execute_result"
    }
   ],
   "source": [
    "type(df)"
   ]
  },
  {
   "cell_type": "code",
   "execution_count": 9,
   "metadata": {},
   "outputs": [
    {
     "name": "stdout",
     "output_type": "stream",
     "text": [
      "root\n",
      " |-- participant_id: integer (nullable = true)\n",
      " |-- examination_status: integer (nullable = true)\n",
      " |-- gender: integer (nullable = true)\n",
      " |-- age_in_years: integer (nullable = true)\n",
      " |-- race_and_origin: integer (nullable = true)\n",
      " |-- race_and_origin_with_asian: integer (nullable = true)\n",
      " |-- six_months_gap: integer (nullable = true)\n",
      "\n"
     ]
    }
   ],
   "source": [
    "#check schema\n",
    "df.printSchema()"
   ]
  },
  {
   "cell_type": "code",
   "execution_count": 10,
   "metadata": {},
   "outputs": [],
   "source": [
    "##Another option\n",
    "df_spark = spark.read.csv('updated_demographic.csv', header=True, inferSchema=True)"
   ]
  },
  {
   "cell_type": "code",
   "execution_count": 11,
   "metadata": {},
   "outputs": [
    {
     "name": "stdout",
     "output_type": "stream",
     "text": [
      "root\n",
      " |-- participant_id: integer (nullable = true)\n",
      " |-- examination_status: integer (nullable = true)\n",
      " |-- gender: integer (nullable = true)\n",
      " |-- age_in_years: integer (nullable = true)\n",
      " |-- race_and_origin: integer (nullable = true)\n",
      " |-- race_and_origin_with_asian: integer (nullable = true)\n",
      " |-- six_months_gap: integer (nullable = true)\n",
      "\n"
     ]
    }
   ],
   "source": [
    "df_spark.printSchema()"
   ]
  },
  {
   "cell_type": "code",
   "execution_count": 12,
   "metadata": {},
   "outputs": [
    {
     "name": "stdout",
     "output_type": "stream",
     "text": [
      "+--------------+------------------+------+------------+---------------+--------------------------+--------------+\n",
      "|participant_id|examination_status|gender|age_in_years|race_and_origin|race_and_origin_with_asian|six_months_gap|\n",
      "+--------------+------------------+------+------------+---------------+--------------------------+--------------+\n",
      "|         73557|                 2|     1|          69|              4|                         4|             1|\n",
      "|         73558|                 2|     1|          54|              3|                         3|             1|\n",
      "|         73559|                 2|     1|          72|              3|                         3|             2|\n",
      "|         73560|                 2|     1|           9|              3|                         3|             1|\n",
      "|         73561|                 2|     2|          73|              3|                         3|             1|\n",
      "|         73562|                 2|     1|          56|              1|                         1|             1|\n",
      "|         73563|                 2|     1|           5|              3|                         3|             2|\n",
      "|         73564|                 2|     2|          61|              3|                         3|             2|\n",
      "|         73565|                 1|     1|          42|              2|                         2|             2|\n",
      "|         73566|                 2|     2|          56|              3|                         3|             1|\n",
      "|         73567|                 2|     1|          65|              3|                         3|             2|\n",
      "|         73568|                 2|     2|          26|              3|                         3|             2|\n",
      "|         73569|                 1|     2|           5|              5|                         7|             2|\n",
      "|         73570|                 2|     2|           9|              5|                         7|             1|\n",
      "|         73571|                 2|     1|          76|              3|                         3|             1|\n",
      "|         73572|                 2|     2|          15|              4|                         4|             1|\n",
      "|         73573|                 2|     1|          15|              4|                         4|             1|\n",
      "|         73574|                 2|     2|          33|              5|                         6|             1|\n",
      "|         73575|                 2|     1|           1|              4|                         4|             1|\n",
      "|         73576|                 2|     1|          16|              4|                         4|             2|\n",
      "+--------------+------------------+------+------------+---------------+--------------------------+--------------+\n",
      "only showing top 20 rows\n",
      "\n"
     ]
    }
   ],
   "source": [
    "df_spark.show()"
   ]
  },
  {
   "cell_type": "code",
   "execution_count": 13,
   "metadata": {},
   "outputs": [
    {
     "data": {
      "text/plain": [
       "['participant_id',\n",
       " 'examination_status',\n",
       " 'gender',\n",
       " 'age_in_years',\n",
       " 'race_and_origin',\n",
       " 'race_and_origin_with_asian',\n",
       " 'six_months_gap']"
      ]
     },
     "execution_count": 13,
     "metadata": {},
     "output_type": "execute_result"
    }
   ],
   "source": [
    "df_spark.columns"
   ]
  },
  {
   "cell_type": "code",
   "execution_count": 14,
   "metadata": {},
   "outputs": [
    {
     "data": {
      "text/plain": [
       "Row(participant_id=73557, examination_status=2, gender=1, age_in_years=69, race_and_origin=4, race_and_origin_with_asian=4, six_months_gap=1)"
      ]
     },
     "execution_count": 14,
     "metadata": {},
     "output_type": "execute_result"
    }
   ],
   "source": [
    "df_spark.head()"
   ]
  },
  {
   "cell_type": "code",
   "execution_count": 15,
   "metadata": {},
   "outputs": [
    {
     "name": "stdout",
     "output_type": "stream",
     "text": [
      "+--------------+\n",
      "|participant_id|\n",
      "+--------------+\n",
      "|         73557|\n",
      "|         73558|\n",
      "|         73559|\n",
      "|         73560|\n",
      "|         73561|\n",
      "|         73562|\n",
      "|         73563|\n",
      "|         73564|\n",
      "|         73565|\n",
      "|         73566|\n",
      "+--------------+\n",
      "only showing top 10 rows\n",
      "\n"
     ]
    }
   ],
   "source": [
    "#selecting a column\n",
    "df_spark.select('participant_id').show(10)"
   ]
  },
  {
   "cell_type": "code",
   "execution_count": 16,
   "metadata": {},
   "outputs": [
    {
     "name": "stdout",
     "output_type": "stream",
     "text": [
      "+--------------+------+\n",
      "|participant_id|gender|\n",
      "+--------------+------+\n",
      "|         73557|     1|\n",
      "|         73558|     1|\n",
      "|         73559|     1|\n",
      "|         73560|     1|\n",
      "|         73561|     2|\n",
      "|         73562|     1|\n",
      "|         73563|     1|\n",
      "|         73564|     2|\n",
      "|         73565|     1|\n",
      "|         73566|     2|\n",
      "|         73567|     1|\n",
      "|         73568|     2|\n",
      "|         73569|     2|\n",
      "|         73570|     2|\n",
      "|         73571|     1|\n",
      "|         73572|     2|\n",
      "|         73573|     1|\n",
      "|         73574|     2|\n",
      "|         73575|     1|\n",
      "|         73576|     1|\n",
      "+--------------+------+\n",
      "only showing top 20 rows\n",
      "\n"
     ]
    }
   ],
   "source": [
    "df_spark.select(['participant_id', 'gender']).show()"
   ]
  },
  {
   "cell_type": "code",
   "execution_count": 17,
   "metadata": {},
   "outputs": [
    {
     "data": {
      "text/plain": [
       "[('participant_id', 'int'),\n",
       " ('examination_status', 'int'),\n",
       " ('gender', 'int'),\n",
       " ('age_in_years', 'int'),\n",
       " ('race_and_origin', 'int'),\n",
       " ('race_and_origin_with_asian', 'int'),\n",
       " ('six_months_gap', 'int')]"
      ]
     },
     "execution_count": 17,
     "metadata": {},
     "output_type": "execute_result"
    }
   ],
   "source": [
    "df_spark.dtypes"
   ]
  },
  {
   "cell_type": "code",
   "execution_count": 18,
   "metadata": {
    "scrolled": true
   },
   "outputs": [
    {
     "data": {
      "text/html": [
       "<div>\n",
       "<style scoped>\n",
       "    .dataframe tbody tr th:only-of-type {\n",
       "        vertical-align: middle;\n",
       "    }\n",
       "\n",
       "    .dataframe tbody tr th {\n",
       "        vertical-align: top;\n",
       "    }\n",
       "\n",
       "    .dataframe thead th {\n",
       "        text-align: right;\n",
       "    }\n",
       "</style>\n",
       "<table border=\"1\" class=\"dataframe\">\n",
       "  <thead>\n",
       "    <tr style=\"text-align: right;\">\n",
       "      <th></th>\n",
       "      <th>summary</th>\n",
       "      <th>participant_id</th>\n",
       "      <th>examination_status</th>\n",
       "      <th>gender</th>\n",
       "      <th>age_in_years</th>\n",
       "      <th>race_and_origin</th>\n",
       "      <th>race_and_origin_with_asian</th>\n",
       "      <th>six_months_gap</th>\n",
       "    </tr>\n",
       "  </thead>\n",
       "  <tbody>\n",
       "    <tr>\n",
       "      <th>0</th>\n",
       "      <td>count</td>\n",
       "      <td>10175</td>\n",
       "      <td>10175</td>\n",
       "      <td>10175</td>\n",
       "      <td>10175</td>\n",
       "      <td>10175</td>\n",
       "      <td>10175</td>\n",
       "      <td>10175</td>\n",
       "    </tr>\n",
       "    <tr>\n",
       "      <th>1</th>\n",
       "      <td>mean</td>\n",
       "      <td>78644.0</td>\n",
       "      <td>1.9644226044226045</td>\n",
       "      <td>1.5083046683046684</td>\n",
       "      <td>32.274299754299754</td>\n",
       "      <td>3.091891891891892</td>\n",
       "      <td>3.28982800982801</td>\n",
       "      <td>1.525995085995086</td>\n",
       "    </tr>\n",
       "    <tr>\n",
       "      <th>2</th>\n",
       "      <td>stddev</td>\n",
       "      <td>2937.4138285233153</td>\n",
       "      <td>0.1852431293855907</td>\n",
       "      <td>0.49995559617340146</td>\n",
       "      <td>24.630410253136994</td>\n",
       "      <td>1.2633047033277733</td>\n",
       "      <td>1.613240660729097</td>\n",
       "      <td>0.49934833686004887</td>\n",
       "    </tr>\n",
       "    <tr>\n",
       "      <th>3</th>\n",
       "      <td>min</td>\n",
       "      <td>73557</td>\n",
       "      <td>1</td>\n",
       "      <td>1</td>\n",
       "      <td>1</td>\n",
       "      <td>1</td>\n",
       "      <td>1</td>\n",
       "      <td>1</td>\n",
       "    </tr>\n",
       "    <tr>\n",
       "      <th>4</th>\n",
       "      <td>max</td>\n",
       "      <td>83731</td>\n",
       "      <td>2</td>\n",
       "      <td>2</td>\n",
       "      <td>85</td>\n",
       "      <td>5</td>\n",
       "      <td>7</td>\n",
       "      <td>2</td>\n",
       "    </tr>\n",
       "  </tbody>\n",
       "</table>\n",
       "</div>"
      ],
      "text/plain": [
       "  summary      participant_id  examination_status               gender  \\\n",
       "0   count               10175               10175                10175   \n",
       "1    mean             78644.0  1.9644226044226045   1.5083046683046684   \n",
       "2  stddev  2937.4138285233153  0.1852431293855907  0.49995559617340146   \n",
       "3     min               73557                   1                    1   \n",
       "4     max               83731                   2                    2   \n",
       "\n",
       "         age_in_years     race_and_origin race_and_origin_with_asian  \\\n",
       "0               10175               10175                      10175   \n",
       "1  32.274299754299754   3.091891891891892           3.28982800982801   \n",
       "2  24.630410253136994  1.2633047033277733          1.613240660729097   \n",
       "3                   1                   1                          1   \n",
       "4                  85                   5                          7   \n",
       "\n",
       "        six_months_gap  \n",
       "0                10175  \n",
       "1    1.525995085995086  \n",
       "2  0.49934833686004887  \n",
       "3                    1  \n",
       "4                    2  "
      ]
     },
     "execution_count": 18,
     "metadata": {},
     "output_type": "execute_result"
    }
   ],
   "source": [
    "df_spark.describe().toPandas() #toPandas() gives better visualization than show()"
   ]
  },
  {
   "cell_type": "code",
   "execution_count": 19,
   "metadata": {},
   "outputs": [
    {
     "data": {
      "text/html": [
       "<div>\n",
       "<style scoped>\n",
       "    .dataframe tbody tr th:only-of-type {\n",
       "        vertical-align: middle;\n",
       "    }\n",
       "\n",
       "    .dataframe tbody tr th {\n",
       "        vertical-align: top;\n",
       "    }\n",
       "\n",
       "    .dataframe thead th {\n",
       "        text-align: right;\n",
       "    }\n",
       "</style>\n",
       "<table border=\"1\" class=\"dataframe\">\n",
       "  <thead>\n",
       "    <tr style=\"text-align: right;\">\n",
       "      <th></th>\n",
       "      <th>participant_id</th>\n",
       "      <th>examination_status</th>\n",
       "      <th>gender</th>\n",
       "      <th>age_in_years</th>\n",
       "      <th>race_and_origin</th>\n",
       "      <th>race_and_origin_with_asian</th>\n",
       "      <th>six_months_gap</th>\n",
       "      <th>Age in months</th>\n",
       "    </tr>\n",
       "  </thead>\n",
       "  <tbody>\n",
       "    <tr>\n",
       "      <th>0</th>\n",
       "      <td>73557</td>\n",
       "      <td>2</td>\n",
       "      <td>1</td>\n",
       "      <td>69</td>\n",
       "      <td>4</td>\n",
       "      <td>4</td>\n",
       "      <td>1</td>\n",
       "      <td>828</td>\n",
       "    </tr>\n",
       "    <tr>\n",
       "      <th>1</th>\n",
       "      <td>73558</td>\n",
       "      <td>2</td>\n",
       "      <td>1</td>\n",
       "      <td>54</td>\n",
       "      <td>3</td>\n",
       "      <td>3</td>\n",
       "      <td>1</td>\n",
       "      <td>648</td>\n",
       "    </tr>\n",
       "    <tr>\n",
       "      <th>2</th>\n",
       "      <td>73559</td>\n",
       "      <td>2</td>\n",
       "      <td>1</td>\n",
       "      <td>72</td>\n",
       "      <td>3</td>\n",
       "      <td>3</td>\n",
       "      <td>2</td>\n",
       "      <td>864</td>\n",
       "    </tr>\n",
       "    <tr>\n",
       "      <th>3</th>\n",
       "      <td>73560</td>\n",
       "      <td>2</td>\n",
       "      <td>1</td>\n",
       "      <td>9</td>\n",
       "      <td>3</td>\n",
       "      <td>3</td>\n",
       "      <td>1</td>\n",
       "      <td>108</td>\n",
       "    </tr>\n",
       "    <tr>\n",
       "      <th>4</th>\n",
       "      <td>73561</td>\n",
       "      <td>2</td>\n",
       "      <td>2</td>\n",
       "      <td>73</td>\n",
       "      <td>3</td>\n",
       "      <td>3</td>\n",
       "      <td>1</td>\n",
       "      <td>876</td>\n",
       "    </tr>\n",
       "    <tr>\n",
       "      <th>...</th>\n",
       "      <td>...</td>\n",
       "      <td>...</td>\n",
       "      <td>...</td>\n",
       "      <td>...</td>\n",
       "      <td>...</td>\n",
       "      <td>...</td>\n",
       "      <td>...</td>\n",
       "      <td>...</td>\n",
       "    </tr>\n",
       "    <tr>\n",
       "      <th>10170</th>\n",
       "      <td>83727</td>\n",
       "      <td>2</td>\n",
       "      <td>1</td>\n",
       "      <td>26</td>\n",
       "      <td>2</td>\n",
       "      <td>2</td>\n",
       "      <td>2</td>\n",
       "      <td>312</td>\n",
       "    </tr>\n",
       "    <tr>\n",
       "      <th>10171</th>\n",
       "      <td>83728</td>\n",
       "      <td>2</td>\n",
       "      <td>2</td>\n",
       "      <td>2</td>\n",
       "      <td>1</td>\n",
       "      <td>1</td>\n",
       "      <td>2</td>\n",
       "      <td>24</td>\n",
       "    </tr>\n",
       "    <tr>\n",
       "      <th>10172</th>\n",
       "      <td>83729</td>\n",
       "      <td>2</td>\n",
       "      <td>2</td>\n",
       "      <td>42</td>\n",
       "      <td>4</td>\n",
       "      <td>4</td>\n",
       "      <td>2</td>\n",
       "      <td>504</td>\n",
       "    </tr>\n",
       "    <tr>\n",
       "      <th>10173</th>\n",
       "      <td>83730</td>\n",
       "      <td>2</td>\n",
       "      <td>1</td>\n",
       "      <td>7</td>\n",
       "      <td>2</td>\n",
       "      <td>2</td>\n",
       "      <td>1</td>\n",
       "      <td>84</td>\n",
       "    </tr>\n",
       "    <tr>\n",
       "      <th>10174</th>\n",
       "      <td>83731</td>\n",
       "      <td>2</td>\n",
       "      <td>1</td>\n",
       "      <td>11</td>\n",
       "      <td>5</td>\n",
       "      <td>6</td>\n",
       "      <td>1</td>\n",
       "      <td>132</td>\n",
       "    </tr>\n",
       "  </tbody>\n",
       "</table>\n",
       "<p>10175 rows × 8 columns</p>\n",
       "</div>"
      ],
      "text/plain": [
       "       participant_id  examination_status  gender  age_in_years  \\\n",
       "0               73557                   2       1            69   \n",
       "1               73558                   2       1            54   \n",
       "2               73559                   2       1            72   \n",
       "3               73560                   2       1             9   \n",
       "4               73561                   2       2            73   \n",
       "...               ...                 ...     ...           ...   \n",
       "10170           83727                   2       1            26   \n",
       "10171           83728                   2       2             2   \n",
       "10172           83729                   2       2            42   \n",
       "10173           83730                   2       1             7   \n",
       "10174           83731                   2       1            11   \n",
       "\n",
       "       race_and_origin  race_and_origin_with_asian  six_months_gap  \\\n",
       "0                    4                           4               1   \n",
       "1                    3                           3               1   \n",
       "2                    3                           3               2   \n",
       "3                    3                           3               1   \n",
       "4                    3                           3               1   \n",
       "...                ...                         ...             ...   \n",
       "10170                2                           2               2   \n",
       "10171                1                           1               2   \n",
       "10172                4                           4               2   \n",
       "10173                2                           2               1   \n",
       "10174                5                           6               1   \n",
       "\n",
       "       Age in months  \n",
       "0                828  \n",
       "1                648  \n",
       "2                864  \n",
       "3                108  \n",
       "4                876  \n",
       "...              ...  \n",
       "10170            312  \n",
       "10171             24  \n",
       "10172            504  \n",
       "10173             84  \n",
       "10174            132  \n",
       "\n",
       "[10175 rows x 8 columns]"
      ]
     },
     "execution_count": 19,
     "metadata": {},
     "output_type": "execute_result"
    }
   ],
   "source": [
    "#Adding columns\n",
    "df_spark.withColumn('Age in months', df_spark['age_in_years'] * 12).toPandas() #not inplace "
   ]
  },
  {
   "cell_type": "code",
   "execution_count": 20,
   "metadata": {},
   "outputs": [],
   "source": [
    "# Adding the column inplace\n",
    "df_spark = df_spark.withColumn(\"age_in_months\", df_spark['age_in_years']*12)"
   ]
  },
  {
   "cell_type": "code",
   "execution_count": 21,
   "metadata": {},
   "outputs": [
    {
     "data": {
      "text/html": [
       "<div>\n",
       "<style scoped>\n",
       "    .dataframe tbody tr th:only-of-type {\n",
       "        vertical-align: middle;\n",
       "    }\n",
       "\n",
       "    .dataframe tbody tr th {\n",
       "        vertical-align: top;\n",
       "    }\n",
       "\n",
       "    .dataframe thead th {\n",
       "        text-align: right;\n",
       "    }\n",
       "</style>\n",
       "<table border=\"1\" class=\"dataframe\">\n",
       "  <thead>\n",
       "    <tr style=\"text-align: right;\">\n",
       "      <th></th>\n",
       "      <th>participant_id</th>\n",
       "      <th>examination_status</th>\n",
       "      <th>gender</th>\n",
       "      <th>age_in_years</th>\n",
       "      <th>race_and_origin</th>\n",
       "      <th>race_and_origin_with_asian</th>\n",
       "      <th>six_months_gap</th>\n",
       "      <th>age_in_months</th>\n",
       "    </tr>\n",
       "  </thead>\n",
       "  <tbody>\n",
       "    <tr>\n",
       "      <th>0</th>\n",
       "      <td>73557</td>\n",
       "      <td>2</td>\n",
       "      <td>1</td>\n",
       "      <td>69</td>\n",
       "      <td>4</td>\n",
       "      <td>4</td>\n",
       "      <td>1</td>\n",
       "      <td>828</td>\n",
       "    </tr>\n",
       "    <tr>\n",
       "      <th>1</th>\n",
       "      <td>73558</td>\n",
       "      <td>2</td>\n",
       "      <td>1</td>\n",
       "      <td>54</td>\n",
       "      <td>3</td>\n",
       "      <td>3</td>\n",
       "      <td>1</td>\n",
       "      <td>648</td>\n",
       "    </tr>\n",
       "    <tr>\n",
       "      <th>2</th>\n",
       "      <td>73559</td>\n",
       "      <td>2</td>\n",
       "      <td>1</td>\n",
       "      <td>72</td>\n",
       "      <td>3</td>\n",
       "      <td>3</td>\n",
       "      <td>2</td>\n",
       "      <td>864</td>\n",
       "    </tr>\n",
       "    <tr>\n",
       "      <th>3</th>\n",
       "      <td>73560</td>\n",
       "      <td>2</td>\n",
       "      <td>1</td>\n",
       "      <td>9</td>\n",
       "      <td>3</td>\n",
       "      <td>3</td>\n",
       "      <td>1</td>\n",
       "      <td>108</td>\n",
       "    </tr>\n",
       "    <tr>\n",
       "      <th>4</th>\n",
       "      <td>73561</td>\n",
       "      <td>2</td>\n",
       "      <td>2</td>\n",
       "      <td>73</td>\n",
       "      <td>3</td>\n",
       "      <td>3</td>\n",
       "      <td>1</td>\n",
       "      <td>876</td>\n",
       "    </tr>\n",
       "    <tr>\n",
       "      <th>...</th>\n",
       "      <td>...</td>\n",
       "      <td>...</td>\n",
       "      <td>...</td>\n",
       "      <td>...</td>\n",
       "      <td>...</td>\n",
       "      <td>...</td>\n",
       "      <td>...</td>\n",
       "      <td>...</td>\n",
       "    </tr>\n",
       "    <tr>\n",
       "      <th>10170</th>\n",
       "      <td>83727</td>\n",
       "      <td>2</td>\n",
       "      <td>1</td>\n",
       "      <td>26</td>\n",
       "      <td>2</td>\n",
       "      <td>2</td>\n",
       "      <td>2</td>\n",
       "      <td>312</td>\n",
       "    </tr>\n",
       "    <tr>\n",
       "      <th>10171</th>\n",
       "      <td>83728</td>\n",
       "      <td>2</td>\n",
       "      <td>2</td>\n",
       "      <td>2</td>\n",
       "      <td>1</td>\n",
       "      <td>1</td>\n",
       "      <td>2</td>\n",
       "      <td>24</td>\n",
       "    </tr>\n",
       "    <tr>\n",
       "      <th>10172</th>\n",
       "      <td>83729</td>\n",
       "      <td>2</td>\n",
       "      <td>2</td>\n",
       "      <td>42</td>\n",
       "      <td>4</td>\n",
       "      <td>4</td>\n",
       "      <td>2</td>\n",
       "      <td>504</td>\n",
       "    </tr>\n",
       "    <tr>\n",
       "      <th>10173</th>\n",
       "      <td>83730</td>\n",
       "      <td>2</td>\n",
       "      <td>1</td>\n",
       "      <td>7</td>\n",
       "      <td>2</td>\n",
       "      <td>2</td>\n",
       "      <td>1</td>\n",
       "      <td>84</td>\n",
       "    </tr>\n",
       "    <tr>\n",
       "      <th>10174</th>\n",
       "      <td>83731</td>\n",
       "      <td>2</td>\n",
       "      <td>1</td>\n",
       "      <td>11</td>\n",
       "      <td>5</td>\n",
       "      <td>6</td>\n",
       "      <td>1</td>\n",
       "      <td>132</td>\n",
       "    </tr>\n",
       "  </tbody>\n",
       "</table>\n",
       "<p>10175 rows × 8 columns</p>\n",
       "</div>"
      ],
      "text/plain": [
       "       participant_id  examination_status  gender  age_in_years  \\\n",
       "0               73557                   2       1            69   \n",
       "1               73558                   2       1            54   \n",
       "2               73559                   2       1            72   \n",
       "3               73560                   2       1             9   \n",
       "4               73561                   2       2            73   \n",
       "...               ...                 ...     ...           ...   \n",
       "10170           83727                   2       1            26   \n",
       "10171           83728                   2       2             2   \n",
       "10172           83729                   2       2            42   \n",
       "10173           83730                   2       1             7   \n",
       "10174           83731                   2       1            11   \n",
       "\n",
       "       race_and_origin  race_and_origin_with_asian  six_months_gap  \\\n",
       "0                    4                           4               1   \n",
       "1                    3                           3               1   \n",
       "2                    3                           3               2   \n",
       "3                    3                           3               1   \n",
       "4                    3                           3               1   \n",
       "...                ...                         ...             ...   \n",
       "10170                2                           2               2   \n",
       "10171                1                           1               2   \n",
       "10172                4                           4               2   \n",
       "10173                2                           2               1   \n",
       "10174                5                           6               1   \n",
       "\n",
       "       age_in_months  \n",
       "0                828  \n",
       "1                648  \n",
       "2                864  \n",
       "3                108  \n",
       "4                876  \n",
       "...              ...  \n",
       "10170            312  \n",
       "10171             24  \n",
       "10172            504  \n",
       "10173             84  \n",
       "10174            132  \n",
       "\n",
       "[10175 rows x 8 columns]"
      ]
     },
     "execution_count": 21,
     "metadata": {},
     "output_type": "execute_result"
    }
   ],
   "source": [
    "df_spark.toPandas()"
   ]
  },
  {
   "cell_type": "code",
   "execution_count": 22,
   "metadata": {},
   "outputs": [],
   "source": [
    "#Dropping the columns\n",
    "df_spark = df_spark.drop('age_in_months')"
   ]
  },
  {
   "cell_type": "code",
   "execution_count": 23,
   "metadata": {},
   "outputs": [
    {
     "data": {
      "text/html": [
       "<div>\n",
       "<style scoped>\n",
       "    .dataframe tbody tr th:only-of-type {\n",
       "        vertical-align: middle;\n",
       "    }\n",
       "\n",
       "    .dataframe tbody tr th {\n",
       "        vertical-align: top;\n",
       "    }\n",
       "\n",
       "    .dataframe thead th {\n",
       "        text-align: right;\n",
       "    }\n",
       "</style>\n",
       "<table border=\"1\" class=\"dataframe\">\n",
       "  <thead>\n",
       "    <tr style=\"text-align: right;\">\n",
       "      <th></th>\n",
       "      <th>participant_id</th>\n",
       "      <th>examination_status</th>\n",
       "      <th>gender</th>\n",
       "      <th>age_in_years</th>\n",
       "      <th>race_and_origin</th>\n",
       "      <th>race_and_origin_with_asian</th>\n",
       "      <th>six_months_gap</th>\n",
       "    </tr>\n",
       "  </thead>\n",
       "  <tbody>\n",
       "    <tr>\n",
       "      <th>0</th>\n",
       "      <td>73557</td>\n",
       "      <td>2</td>\n",
       "      <td>1</td>\n",
       "      <td>69</td>\n",
       "      <td>4</td>\n",
       "      <td>4</td>\n",
       "      <td>1</td>\n",
       "    </tr>\n",
       "    <tr>\n",
       "      <th>1</th>\n",
       "      <td>73558</td>\n",
       "      <td>2</td>\n",
       "      <td>1</td>\n",
       "      <td>54</td>\n",
       "      <td>3</td>\n",
       "      <td>3</td>\n",
       "      <td>1</td>\n",
       "    </tr>\n",
       "    <tr>\n",
       "      <th>2</th>\n",
       "      <td>73559</td>\n",
       "      <td>2</td>\n",
       "      <td>1</td>\n",
       "      <td>72</td>\n",
       "      <td>3</td>\n",
       "      <td>3</td>\n",
       "      <td>2</td>\n",
       "    </tr>\n",
       "    <tr>\n",
       "      <th>3</th>\n",
       "      <td>73560</td>\n",
       "      <td>2</td>\n",
       "      <td>1</td>\n",
       "      <td>9</td>\n",
       "      <td>3</td>\n",
       "      <td>3</td>\n",
       "      <td>1</td>\n",
       "    </tr>\n",
       "    <tr>\n",
       "      <th>4</th>\n",
       "      <td>73561</td>\n",
       "      <td>2</td>\n",
       "      <td>2</td>\n",
       "      <td>73</td>\n",
       "      <td>3</td>\n",
       "      <td>3</td>\n",
       "      <td>1</td>\n",
       "    </tr>\n",
       "    <tr>\n",
       "      <th>...</th>\n",
       "      <td>...</td>\n",
       "      <td>...</td>\n",
       "      <td>...</td>\n",
       "      <td>...</td>\n",
       "      <td>...</td>\n",
       "      <td>...</td>\n",
       "      <td>...</td>\n",
       "    </tr>\n",
       "    <tr>\n",
       "      <th>10170</th>\n",
       "      <td>83727</td>\n",
       "      <td>2</td>\n",
       "      <td>1</td>\n",
       "      <td>26</td>\n",
       "      <td>2</td>\n",
       "      <td>2</td>\n",
       "      <td>2</td>\n",
       "    </tr>\n",
       "    <tr>\n",
       "      <th>10171</th>\n",
       "      <td>83728</td>\n",
       "      <td>2</td>\n",
       "      <td>2</td>\n",
       "      <td>2</td>\n",
       "      <td>1</td>\n",
       "      <td>1</td>\n",
       "      <td>2</td>\n",
       "    </tr>\n",
       "    <tr>\n",
       "      <th>10172</th>\n",
       "      <td>83729</td>\n",
       "      <td>2</td>\n",
       "      <td>2</td>\n",
       "      <td>42</td>\n",
       "      <td>4</td>\n",
       "      <td>4</td>\n",
       "      <td>2</td>\n",
       "    </tr>\n",
       "    <tr>\n",
       "      <th>10173</th>\n",
       "      <td>83730</td>\n",
       "      <td>2</td>\n",
       "      <td>1</td>\n",
       "      <td>7</td>\n",
       "      <td>2</td>\n",
       "      <td>2</td>\n",
       "      <td>1</td>\n",
       "    </tr>\n",
       "    <tr>\n",
       "      <th>10174</th>\n",
       "      <td>83731</td>\n",
       "      <td>2</td>\n",
       "      <td>1</td>\n",
       "      <td>11</td>\n",
       "      <td>5</td>\n",
       "      <td>6</td>\n",
       "      <td>1</td>\n",
       "    </tr>\n",
       "  </tbody>\n",
       "</table>\n",
       "<p>10175 rows × 7 columns</p>\n",
       "</div>"
      ],
      "text/plain": [
       "       participant_id  examination_status  gender  age_in_years  \\\n",
       "0               73557                   2       1            69   \n",
       "1               73558                   2       1            54   \n",
       "2               73559                   2       1            72   \n",
       "3               73560                   2       1             9   \n",
       "4               73561                   2       2            73   \n",
       "...               ...                 ...     ...           ...   \n",
       "10170           83727                   2       1            26   \n",
       "10171           83728                   2       2             2   \n",
       "10172           83729                   2       2            42   \n",
       "10173           83730                   2       1             7   \n",
       "10174           83731                   2       1            11   \n",
       "\n",
       "       race_and_origin  race_and_origin_with_asian  six_months_gap  \n",
       "0                    4                           4               1  \n",
       "1                    3                           3               1  \n",
       "2                    3                           3               2  \n",
       "3                    3                           3               1  \n",
       "4                    3                           3               1  \n",
       "...                ...                         ...             ...  \n",
       "10170                2                           2               2  \n",
       "10171                1                           1               2  \n",
       "10172                4                           4               2  \n",
       "10173                2                           2               1  \n",
       "10174                5                           6               1  \n",
       "\n",
       "[10175 rows x 7 columns]"
      ]
     },
     "execution_count": 23,
     "metadata": {},
     "output_type": "execute_result"
    }
   ],
   "source": [
    "df_spark.toPandas()"
   ]
  },
  {
   "cell_type": "code",
   "execution_count": 24,
   "metadata": {},
   "outputs": [],
   "source": [
    "#Rename the column\n",
    "\n",
    "df_spark = df_spark.withColumnRenamed('age_in_years', 'age')"
   ]
  },
  {
   "cell_type": "code",
   "execution_count": 25,
   "metadata": {},
   "outputs": [
    {
     "data": {
      "text/html": [
       "<div>\n",
       "<style scoped>\n",
       "    .dataframe tbody tr th:only-of-type {\n",
       "        vertical-align: middle;\n",
       "    }\n",
       "\n",
       "    .dataframe tbody tr th {\n",
       "        vertical-align: top;\n",
       "    }\n",
       "\n",
       "    .dataframe thead th {\n",
       "        text-align: right;\n",
       "    }\n",
       "</style>\n",
       "<table border=\"1\" class=\"dataframe\">\n",
       "  <thead>\n",
       "    <tr style=\"text-align: right;\">\n",
       "      <th></th>\n",
       "      <th>participant_id</th>\n",
       "      <th>examination_status</th>\n",
       "      <th>gender</th>\n",
       "      <th>age</th>\n",
       "      <th>race_and_origin</th>\n",
       "      <th>race_and_origin_with_asian</th>\n",
       "      <th>six_months_gap</th>\n",
       "    </tr>\n",
       "  </thead>\n",
       "  <tbody>\n",
       "    <tr>\n",
       "      <th>0</th>\n",
       "      <td>73557</td>\n",
       "      <td>2</td>\n",
       "      <td>1</td>\n",
       "      <td>69</td>\n",
       "      <td>4</td>\n",
       "      <td>4</td>\n",
       "      <td>1</td>\n",
       "    </tr>\n",
       "    <tr>\n",
       "      <th>1</th>\n",
       "      <td>73558</td>\n",
       "      <td>2</td>\n",
       "      <td>1</td>\n",
       "      <td>54</td>\n",
       "      <td>3</td>\n",
       "      <td>3</td>\n",
       "      <td>1</td>\n",
       "    </tr>\n",
       "    <tr>\n",
       "      <th>2</th>\n",
       "      <td>73559</td>\n",
       "      <td>2</td>\n",
       "      <td>1</td>\n",
       "      <td>72</td>\n",
       "      <td>3</td>\n",
       "      <td>3</td>\n",
       "      <td>2</td>\n",
       "    </tr>\n",
       "    <tr>\n",
       "      <th>3</th>\n",
       "      <td>73560</td>\n",
       "      <td>2</td>\n",
       "      <td>1</td>\n",
       "      <td>9</td>\n",
       "      <td>3</td>\n",
       "      <td>3</td>\n",
       "      <td>1</td>\n",
       "    </tr>\n",
       "    <tr>\n",
       "      <th>4</th>\n",
       "      <td>73561</td>\n",
       "      <td>2</td>\n",
       "      <td>2</td>\n",
       "      <td>73</td>\n",
       "      <td>3</td>\n",
       "      <td>3</td>\n",
       "      <td>1</td>\n",
       "    </tr>\n",
       "    <tr>\n",
       "      <th>...</th>\n",
       "      <td>...</td>\n",
       "      <td>...</td>\n",
       "      <td>...</td>\n",
       "      <td>...</td>\n",
       "      <td>...</td>\n",
       "      <td>...</td>\n",
       "      <td>...</td>\n",
       "    </tr>\n",
       "    <tr>\n",
       "      <th>10170</th>\n",
       "      <td>83727</td>\n",
       "      <td>2</td>\n",
       "      <td>1</td>\n",
       "      <td>26</td>\n",
       "      <td>2</td>\n",
       "      <td>2</td>\n",
       "      <td>2</td>\n",
       "    </tr>\n",
       "    <tr>\n",
       "      <th>10171</th>\n",
       "      <td>83728</td>\n",
       "      <td>2</td>\n",
       "      <td>2</td>\n",
       "      <td>2</td>\n",
       "      <td>1</td>\n",
       "      <td>1</td>\n",
       "      <td>2</td>\n",
       "    </tr>\n",
       "    <tr>\n",
       "      <th>10172</th>\n",
       "      <td>83729</td>\n",
       "      <td>2</td>\n",
       "      <td>2</td>\n",
       "      <td>42</td>\n",
       "      <td>4</td>\n",
       "      <td>4</td>\n",
       "      <td>2</td>\n",
       "    </tr>\n",
       "    <tr>\n",
       "      <th>10173</th>\n",
       "      <td>83730</td>\n",
       "      <td>2</td>\n",
       "      <td>1</td>\n",
       "      <td>7</td>\n",
       "      <td>2</td>\n",
       "      <td>2</td>\n",
       "      <td>1</td>\n",
       "    </tr>\n",
       "    <tr>\n",
       "      <th>10174</th>\n",
       "      <td>83731</td>\n",
       "      <td>2</td>\n",
       "      <td>1</td>\n",
       "      <td>11</td>\n",
       "      <td>5</td>\n",
       "      <td>6</td>\n",
       "      <td>1</td>\n",
       "    </tr>\n",
       "  </tbody>\n",
       "</table>\n",
       "<p>10175 rows × 7 columns</p>\n",
       "</div>"
      ],
      "text/plain": [
       "       participant_id  examination_status  gender  age  race_and_origin  \\\n",
       "0               73557                   2       1   69                4   \n",
       "1               73558                   2       1   54                3   \n",
       "2               73559                   2       1   72                3   \n",
       "3               73560                   2       1    9                3   \n",
       "4               73561                   2       2   73                3   \n",
       "...               ...                 ...     ...  ...              ...   \n",
       "10170           83727                   2       1   26                2   \n",
       "10171           83728                   2       2    2                1   \n",
       "10172           83729                   2       2   42                4   \n",
       "10173           83730                   2       1    7                2   \n",
       "10174           83731                   2       1   11                5   \n",
       "\n",
       "       race_and_origin_with_asian  six_months_gap  \n",
       "0                               4               1  \n",
       "1                               3               1  \n",
       "2                               3               2  \n",
       "3                               3               1  \n",
       "4                               3               1  \n",
       "...                           ...             ...  \n",
       "10170                           2               2  \n",
       "10171                           1               2  \n",
       "10172                           4               2  \n",
       "10173                           2               1  \n",
       "10174                           6               1  \n",
       "\n",
       "[10175 rows x 7 columns]"
      ]
     },
     "execution_count": 25,
     "metadata": {},
     "output_type": "execute_result"
    }
   ],
   "source": [
    "df_spark.toPandas()"
   ]
  },
  {
   "cell_type": "code",
   "execution_count": null,
   "metadata": {},
   "outputs": [],
   "source": []
  },
  {
   "cell_type": "markdown",
   "metadata": {},
   "source": [
    "## Handle null values"
   ]
  },
  {
   "cell_type": "code",
   "execution_count": 26,
   "metadata": {},
   "outputs": [],
   "source": [
    "spark_df = spark.read.csv('random_csv.csv', header=True, inferSchema=True)"
   ]
  },
  {
   "cell_type": "code",
   "execution_count": 27,
   "metadata": {},
   "outputs": [
    {
     "name": "stdout",
     "output_type": "stream",
     "text": [
      "+-------------+----+------+\n",
      "|         Name| Age|Salary|\n",
      "+-------------+----+------+\n",
      "|Prakash Dahal|  21|  null|\n",
      "|          SPR|null| 35000|\n",
      "|          SCF|  22| 30000|\n",
      "|          ABC|  25|  null|\n",
      "|          PQR|null|  null|\n",
      "|          XYZ|  24|  null|\n",
      "|         null|  25| 37000|\n",
      "+-------------+----+------+\n",
      "\n"
     ]
    }
   ],
   "source": [
    "spark_df.show()"
   ]
  },
  {
   "cell_type": "code",
   "execution_count": 28,
   "metadata": {},
   "outputs": [
    {
     "data": {
      "text/html": [
       "<div>\n",
       "<style scoped>\n",
       "    .dataframe tbody tr th:only-of-type {\n",
       "        vertical-align: middle;\n",
       "    }\n",
       "\n",
       "    .dataframe tbody tr th {\n",
       "        vertical-align: top;\n",
       "    }\n",
       "\n",
       "    .dataframe thead th {\n",
       "        text-align: right;\n",
       "    }\n",
       "</style>\n",
       "<table border=\"1\" class=\"dataframe\">\n",
       "  <thead>\n",
       "    <tr style=\"text-align: right;\">\n",
       "      <th></th>\n",
       "      <th>Name</th>\n",
       "      <th>Age</th>\n",
       "      <th>Salary</th>\n",
       "    </tr>\n",
       "  </thead>\n",
       "  <tbody>\n",
       "    <tr>\n",
       "      <th>0</th>\n",
       "      <td>Prakash Dahal</td>\n",
       "      <td>21.0</td>\n",
       "      <td>NaN</td>\n",
       "    </tr>\n",
       "    <tr>\n",
       "      <th>1</th>\n",
       "      <td>SPR</td>\n",
       "      <td>NaN</td>\n",
       "      <td>35000.0</td>\n",
       "    </tr>\n",
       "    <tr>\n",
       "      <th>2</th>\n",
       "      <td>SCF</td>\n",
       "      <td>22.0</td>\n",
       "      <td>30000.0</td>\n",
       "    </tr>\n",
       "    <tr>\n",
       "      <th>3</th>\n",
       "      <td>ABC</td>\n",
       "      <td>25.0</td>\n",
       "      <td>NaN</td>\n",
       "    </tr>\n",
       "    <tr>\n",
       "      <th>4</th>\n",
       "      <td>PQR</td>\n",
       "      <td>NaN</td>\n",
       "      <td>NaN</td>\n",
       "    </tr>\n",
       "    <tr>\n",
       "      <th>5</th>\n",
       "      <td>XYZ</td>\n",
       "      <td>24.0</td>\n",
       "      <td>NaN</td>\n",
       "    </tr>\n",
       "    <tr>\n",
       "      <th>6</th>\n",
       "      <td>None</td>\n",
       "      <td>25.0</td>\n",
       "      <td>37000.0</td>\n",
       "    </tr>\n",
       "  </tbody>\n",
       "</table>\n",
       "</div>"
      ],
      "text/plain": [
       "            Name   Age   Salary\n",
       "0  Prakash Dahal  21.0      NaN\n",
       "1            SPR   NaN  35000.0\n",
       "2            SCF  22.0  30000.0\n",
       "3            ABC  25.0      NaN\n",
       "4            PQR   NaN      NaN\n",
       "5            XYZ  24.0      NaN\n",
       "6           None  25.0  37000.0"
      ]
     },
     "execution_count": 28,
     "metadata": {},
     "output_type": "execute_result"
    }
   ],
   "source": [
    "spark_df.toPandas()"
   ]
  },
  {
   "cell_type": "code",
   "execution_count": 29,
   "metadata": {},
   "outputs": [
    {
     "data": {
      "text/plain": [
       "7"
      ]
     },
     "execution_count": 29,
     "metadata": {},
     "output_type": "execute_result"
    }
   ],
   "source": [
    "#Counting rows\n",
    "spark_df.count()"
   ]
  },
  {
   "cell_type": "code",
   "execution_count": 30,
   "metadata": {},
   "outputs": [
    {
     "data": {
      "text/plain": [
       "-0.09484454838593365"
      ]
     },
     "execution_count": 30,
     "metadata": {},
     "output_type": "execute_result"
    }
   ],
   "source": [
    "spark_df.corr('Age', 'Salary')"
   ]
  },
  {
   "cell_type": "code",
   "execution_count": 31,
   "metadata": {},
   "outputs": [
    {
     "data": {
      "text/plain": [
       "7"
      ]
     },
     "execution_count": 31,
     "metadata": {},
     "output_type": "execute_result"
    }
   ],
   "source": [
    "spark_df.distinct().count()"
   ]
  },
  {
   "cell_type": "code",
   "execution_count": 32,
   "metadata": {},
   "outputs": [
    {
     "name": "stdout",
     "output_type": "stream",
     "text": [
      "+-------------+---+------+\n",
      "|         Name|Age|Salary|\n",
      "+-------------+---+------+\n",
      "|Prakash Dahal| 21|  null|\n",
      "|          SPR| 20| 35000|\n",
      "|          SCF| 22| 30000|\n",
      "|          ABC| 25|  null|\n",
      "|          PQR| 20|  null|\n",
      "|          XYZ| 24|  null|\n",
      "|         null| 25| 37000|\n",
      "+-------------+---+------+\n",
      "\n"
     ]
    }
   ],
   "source": [
    "spark_df.fillna({\"Age\":20}).show()"
   ]
  },
  {
   "cell_type": "code",
   "execution_count": 33,
   "metadata": {},
   "outputs": [
    {
     "name": "stdout",
     "output_type": "stream",
     "text": [
      "+-------------+---+------+\n",
      "|         Name|Age|Salary|\n",
      "+-------------+---+------+\n",
      "|Prakash Dahal| 21| 20000|\n",
      "|          SPR| 20| 35000|\n",
      "|          SCF| 22| 30000|\n",
      "|          ABC| 25| 20000|\n",
      "|          PQR| 20| 20000|\n",
      "|          XYZ| 24| 20000|\n",
      "|      Unknown| 25| 37000|\n",
      "+-------------+---+------+\n",
      "\n"
     ]
    }
   ],
   "source": [
    "spark_df.fillna({\"Age\":20, \"Name\":\"Unknown\", \"Salary\":20000}).show()"
   ]
  },
  {
   "cell_type": "code",
   "execution_count": 34,
   "metadata": {},
   "outputs": [],
   "source": [
    "from pyspark.sql.functions import avg, count, col"
   ]
  },
  {
   "cell_type": "code",
   "execution_count": 35,
   "metadata": {},
   "outputs": [
    {
     "name": "stdout",
     "output_type": "stream",
     "text": [
      "+-----------+\n",
      "|Average Age|\n",
      "+-----------+\n",
      "|       23.4|\n",
      "+-----------+\n",
      "\n"
     ]
    }
   ],
   "source": [
    "#Selecting average of a column \n",
    "spark_df.select(avg(\"Age\").alias('Average Age')).show()"
   ]
  },
  {
   "cell_type": "code",
   "execution_count": 37,
   "metadata": {},
   "outputs": [
    {
     "name": "stdout",
     "output_type": "stream",
     "text": [
      "+-----------+\n",
      "|Average age|\n",
      "+-----------+\n",
      "|       23.4|\n",
      "+-----------+\n",
      "\n"
     ]
    }
   ],
   "source": [
    "spark_df.select(avg(col('Age')).alias(\"Average age\")).show()"
   ]
  },
  {
   "cell_type": "code",
   "execution_count": 38,
   "metadata": {},
   "outputs": [
    {
     "name": "stdout",
     "output_type": "stream",
     "text": [
      "+----+---+------+\n",
      "|Name|Age|Salary|\n",
      "+----+---+------+\n",
      "| SCF| 22| 30000|\n",
      "+----+---+------+\n",
      "\n"
     ]
    }
   ],
   "source": [
    "spark_df.dropna().show()"
   ]
  },
  {
   "cell_type": "code",
   "execution_count": 39,
   "metadata": {},
   "outputs": [],
   "source": [
    "from pyspark.ml.feature import Imputer"
   ]
  },
  {
   "cell_type": "code",
   "execution_count": 44,
   "metadata": {},
   "outputs": [],
   "source": [
    "#Filling with mean values\n",
    "imputer = Imputer(strategy='mean', inputCols=['Age', 'Salary'], outputCols=['Imputed_Age', 'Imputed_Salary'])"
   ]
  },
  {
   "cell_type": "code",
   "execution_count": 45,
   "metadata": {},
   "outputs": [
    {
     "name": "stdout",
     "output_type": "stream",
     "text": [
      "+-------------+----+------+-----------+--------------+\n",
      "|         Name| Age|Salary|Imputed_Age|Imputed_Salary|\n",
      "+-------------+----+------+-----------+--------------+\n",
      "|Prakash Dahal|  21|  null|         21|         34000|\n",
      "|          SPR|null| 35000|         23|         35000|\n",
      "|          SCF|  22| 30000|         22|         30000|\n",
      "|          ABC|  25|  null|         25|         34000|\n",
      "|          PQR|null|  null|         23|         34000|\n",
      "|          XYZ|  24|  null|         24|         34000|\n",
      "|         null|  25| 37000|         25|         37000|\n",
      "+-------------+----+------+-----------+--------------+\n",
      "\n"
     ]
    }
   ],
   "source": [
    "imputer.fit(spark_df).transform(spark_df).show()"
   ]
  },
  {
   "cell_type": "code",
   "execution_count": 46,
   "metadata": {},
   "outputs": [
    {
     "name": "stdout",
     "output_type": "stream",
     "text": [
      "+-------------+----+------+\n",
      "|         Name| Age|Salary|\n",
      "+-------------+----+------+\n",
      "|Prakash Dahal|  21|  null|\n",
      "|          SPR|null| 35000|\n",
      "|          SCF|  22| 30000|\n",
      "|          ABC|  25|  null|\n",
      "|          PQR|null|  null|\n",
      "|          XYZ|  24|  null|\n",
      "|         null|  25| 37000|\n",
      "+-------------+----+------+\n",
      "\n"
     ]
    }
   ],
   "source": [
    "#All the above functions are not done inplace\n",
    "spark_df.show()"
   ]
  },
  {
   "cell_type": "code",
   "execution_count": 65,
   "metadata": {},
   "outputs": [],
   "source": [
    "from pyspark.sql.functions import when, isnan, count, col, isnull\n",
    "import numpy as np"
   ]
  },
  {
   "cell_type": "code",
   "execution_count": 60,
   "metadata": {},
   "outputs": [
    {
     "name": "stdout",
     "output_type": "stream",
     "text": [
      "+-------------+----+------+\n",
      "|         Name| Age|Salary|\n",
      "+-------------+----+------+\n",
      "|Prakash Dahal|  21| 35000|\n",
      "|          SPR|null| 35000|\n",
      "|          SCF|  22| 30000|\n",
      "|          ABC|  25|  null|\n",
      "|          PQR|null|  null|\n",
      "|          XYZ|  24|  null|\n",
      "|         null|  25| 37000|\n",
      "+-------------+----+------+\n",
      "\n"
     ]
    }
   ],
   "source": [
    "spark_df.withColumn('Salary', \\\n",
    "                   when(spark_df['Name']==\"Prakash Dahal\", 35000)\\\n",
    "                   .when(spark_df['Name'] == np.nan, 20000).otherwise(spark_df['Salary'])).show()"
   ]
  },
  {
   "cell_type": "code",
   "execution_count": 67,
   "metadata": {},
   "outputs": [
    {
     "name": "stdout",
     "output_type": "stream",
     "text": [
      "+-------------+----+------+\n",
      "|         Name| Age|Salary|\n",
      "+-------------+----+------+\n",
      "|Prakash Dahal|  21|  null|\n",
      "|          SPR|null| 35000|\n",
      "|          SCF|  22| 30000|\n",
      "|          ABC|  25|  null|\n",
      "|          PQR|null|  null|\n",
      "|          XYZ|  24|  null|\n",
      "|         null|  25| 37000|\n",
      "+-------------+----+------+\n",
      "\n"
     ]
    }
   ],
   "source": [
    "spark_df.show()"
   ]
  },
  {
   "cell_type": "code",
   "execution_count": 106,
   "metadata": {},
   "outputs": [
    {
     "name": "stdout",
     "output_type": "stream",
     "text": [
      "+----+----+------+\n",
      "|Name| Age|Salary|\n",
      "+----+----+------+\n",
      "|null|null|Salary|\n",
      "|null| Age|  null|\n",
      "|null|null|  null|\n",
      "|null|null|Salary|\n",
      "|null| Age|Salary|\n",
      "|null|null|Salary|\n",
      "|Name|null|  null|\n",
      "+----+----+------+\n",
      "\n"
     ]
    }
   ],
   "source": [
    "spark_df.select([when(isnull(c),c).alias(c) for c in spark_df.columns]).show()"
   ]
  },
  {
   "cell_type": "code",
   "execution_count": 71,
   "metadata": {
    "scrolled": true
   },
   "outputs": [
    {
     "name": "stdout",
     "output_type": "stream",
     "text": [
      "+----+---+------+\n",
      "|Name|Age|Salary|\n",
      "+----+---+------+\n",
      "|   1|  2|     4|\n",
      "+----+---+------+\n",
      "\n"
     ]
    }
   ],
   "source": [
    "#Counting the null values in all columns\n",
    "spark_df.select([count(when(isnull(c),c)).alias(c) for c in spark_df.columns]).show()"
   ]
  },
  {
   "cell_type": "code",
   "execution_count": 83,
   "metadata": {},
   "outputs": [
    {
     "data": {
      "text/plain": [
       "[('Name', 'string'), ('Age', 'int'), ('Salary', 'int')]"
      ]
     },
     "execution_count": 83,
     "metadata": {},
     "output_type": "execute_result"
    }
   ],
   "source": [
    "spark_df.dtypes"
   ]
  },
  {
   "cell_type": "code",
   "execution_count": 99,
   "metadata": {},
   "outputs": [
    {
     "data": {
      "text/plain": [
       "'string'"
      ]
     },
     "execution_count": 99,
     "metadata": {},
     "output_type": "execute_result"
    }
   ],
   "source": [
    "dict(spark_df.dtypes)['Name']"
   ]
  },
  {
   "cell_type": "code",
   "execution_count": 101,
   "metadata": {
    "scrolled": true
   },
   "outputs": [
    {
     "name": "stdout",
     "output_type": "stream",
     "text": [
      "+-------------+-------+-------+\n",
      "|         Name|    Age| Salary|\n",
      "+-------------+-------+-------+\n",
      "|Prakash Dahal|     21|Unknown|\n",
      "|          SPR|Unknown|  35000|\n",
      "|          SCF|     22|  30000|\n",
      "|          ABC|     25|Unknown|\n",
      "|          PQR|Unknown|Unknown|\n",
      "|          XYZ|     24|Unknown|\n",
      "|      Unknown|     25|  37000|\n",
      "+-------------+-------+-------+\n",
      "\n"
     ]
    }
   ],
   "source": [
    "#Replace null values based on columns dtypes\n",
    "spark_df.select([when(isnull(c), \"Unknown\").otherwise(spark_df[c]).alias(c)  for c in spark_df.columns]).show()"
   ]
  },
  {
   "cell_type": "code",
   "execution_count": 105,
   "metadata": {},
   "outputs": [
    {
     "name": "stdout",
     "output_type": "stream",
     "text": [
      "+----+----+------+\n",
      "|Name| Age|Salary|\n",
      "+----+----+------+\n",
      "| SPR|null| 35000|\n",
      "|null|  25| 37000|\n",
      "+----+----+------+\n",
      "\n"
     ]
    }
   ],
   "source": [
    "#Filter command\n",
    "spark_df.filter(spark_df['Salary']>30000).show()"
   ]
  },
  {
   "cell_type": "code",
   "execution_count": 111,
   "metadata": {},
   "outputs": [
    {
     "name": "stdout",
     "output_type": "stream",
     "text": [
      "+----+---+------+\n",
      "|Name|Age|Salary|\n",
      "+----+---+------+\n",
      "|null| 25| 37000|\n",
      "+----+---+------+\n",
      "\n"
     ]
    }
   ],
   "source": [
    "#And operations\n",
    "\n",
    "spark_df.filter((spark_df['Salary']>30000) & (spark_df['Age']>22)).show()"
   ]
  },
  {
   "cell_type": "code",
   "execution_count": 116,
   "metadata": {},
   "outputs": [
    {
     "data": {
      "text/plain": [
       "'Prakash Dahal'"
      ]
     },
     "execution_count": 116,
     "metadata": {},
     "output_type": "execute_result"
    }
   ],
   "source": [
    "#Row 0, column 0 value\n",
    "spark_df.collect()[0][0]"
   ]
  },
  {
   "cell_type": "code",
   "execution_count": 117,
   "metadata": {},
   "outputs": [
    {
     "data": {
      "text/plain": [
       "21"
      ]
     },
     "execution_count": 117,
     "metadata": {},
     "output_type": "execute_result"
    }
   ],
   "source": [
    "#Row 0, column 1 value\n",
    "spark_df.collect()[0][1]"
   ]
  },
  {
   "cell_type": "code",
   "execution_count": null,
   "metadata": {},
   "outputs": [],
   "source": []
  },
  {
   "cell_type": "markdown",
   "metadata": {},
   "source": [
    "## GroupBy and Aggregate functions"
   ]
  },
  {
   "cell_type": "code",
   "execution_count": 118,
   "metadata": {},
   "outputs": [
    {
     "name": "stdout",
     "output_type": "stream",
     "text": [
      "+-------------+--------+-----------+\n",
      "|         Name|sum(Age)|sum(Salary)|\n",
      "+-------------+--------+-----------+\n",
      "|Prakash Dahal|      21|       null|\n",
      "|         null|      25|      37000|\n",
      "|          SPR|    null|      35000|\n",
      "|          PQR|    null|       null|\n",
      "|          XYZ|      24|       null|\n",
      "|          ABC|      25|       null|\n",
      "|          SCF|      22|      30000|\n",
      "+-------------+--------+-----------+\n",
      "\n"
     ]
    }
   ],
   "source": [
    "spark_df.groupBy(\"Name\").sum().show()"
   ]
  },
  {
   "cell_type": "code",
   "execution_count": 122,
   "metadata": {},
   "outputs": [
    {
     "name": "stdout",
     "output_type": "stream",
     "text": [
      "+--------+\n",
      "|max(Age)|\n",
      "+--------+\n",
      "|      25|\n",
      "+--------+\n",
      "\n"
     ]
    }
   ],
   "source": [
    "spark_df.agg({\"Age\":\"max\"}).show()"
   ]
  },
  {
   "cell_type": "code",
   "execution_count": null,
   "metadata": {},
   "outputs": [],
   "source": []
  },
  {
   "cell_type": "markdown",
   "metadata": {},
   "source": [
    "## MLib"
   ]
  },
  {
   "cell_type": "code",
   "execution_count": null,
   "metadata": {},
   "outputs": [],
   "source": []
  },
  {
   "cell_type": "code",
   "execution_count": null,
   "metadata": {},
   "outputs": [],
   "source": []
  },
  {
   "cell_type": "code",
   "execution_count": null,
   "metadata": {},
   "outputs": [],
   "source": []
  },
  {
   "cell_type": "code",
   "execution_count": null,
   "metadata": {},
   "outputs": [],
   "source": []
  },
  {
   "cell_type": "code",
   "execution_count": null,
   "metadata": {},
   "outputs": [],
   "source": []
  },
  {
   "cell_type": "code",
   "execution_count": null,
   "metadata": {},
   "outputs": [],
   "source": []
  },
  {
   "cell_type": "code",
   "execution_count": null,
   "metadata": {},
   "outputs": [],
   "source": []
  },
  {
   "cell_type": "code",
   "execution_count": null,
   "metadata": {},
   "outputs": [],
   "source": []
  },
  {
   "cell_type": "code",
   "execution_count": null,
   "metadata": {},
   "outputs": [],
   "source": []
  },
  {
   "cell_type": "code",
   "execution_count": null,
   "metadata": {},
   "outputs": [],
   "source": []
  }
 ],
 "metadata": {
  "kernelspec": {
   "display_name": "Python 3",
   "language": "python",
   "name": "python3"
  },
  "language_info": {
   "codemirror_mode": {
    "name": "ipython",
    "version": 3
   },
   "file_extension": ".py",
   "mimetype": "text/x-python",
   "name": "python",
   "nbconvert_exporter": "python",
   "pygments_lexer": "ipython3",
   "version": "3.7.7"
  }
 },
 "nbformat": 4,
 "nbformat_minor": 4
}
